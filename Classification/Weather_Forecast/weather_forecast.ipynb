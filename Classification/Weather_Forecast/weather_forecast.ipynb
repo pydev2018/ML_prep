{
 "cells": [
  {
   "cell_type": "markdown",
   "metadata": {},
   "source": [
    "# Build Golf|Weather Dataset\n",
    "\n",
    "Note: you can install the requirements file for this notebook if you want to install all the libraries at once. Open a new terminal window, navigate to the folder with the \"requirements_jupyter.txt\" and run the following command:\n",
    "\n",
    "pip3 install -r requirements_jupyter.txt"
   ]
  },
  {
   "cell_type": "code",
   "execution_count": 1,
   "metadata": {},
   "outputs": [],
   "source": [
    "# !pip3 install -r requirements_jupyter.txt"
   ]
  },
  {
   "cell_type": "code",
   "execution_count": 2,
   "metadata": {},
   "outputs": [],
   "source": [
    "import pandas as pd\n",
    "import numpy as np\n",
    "from sklearn.model_selection import train_test_split\n",
    "from sklearn.naive_bayes import GaussianNB"
   ]
  },
  {
   "cell_type": "code",
   "execution_count": 3,
   "metadata": {},
   "outputs": [],
   "source": [
    "# Golf|Weather Data Set from https://gerardnico.com/data_mining/weather\n",
    "golf_data_header = ['Outlook', 'Temperature_Numeric', 'Temperature_Nominal', 'Humidity_Numeric', 'Humidity_Nominal', 'Windy', 'Play']\n",
    "\n",
    "golf_data_set = [['overcast',83,'hot',86,'high',False,True],\n",
    "['overcast',64,'cool',65,'normal',True,True],\n",
    "['overcast',72,'mild',90,'high',True,True],\n",
    "['overcast',81,'hot',75,'normal',False,True],\n",
    "['rainy',70,'mild',96,'high',False,True],\n",
    "['rainy',68,'cool',80,'normal',False,True],\n",
    "['rainy',65,'cool',70,'normal',True,False],\n",
    "['rainy',75,'mild',80,'normal',False,True],\n",
    "['rainy',71,'mild',91,'high',True,False],\n",
    "['sunny',85,'hot',85,'high',False,False],\n",
    "['sunny',80,'hot',90,'high',True,False],\n",
    "['sunny',72,'mild',95,'high',False,False],\n",
    "['sunny',69,'cool',70,'normal',False,True],\n",
    "['sunny',75,'mild',70,'normal',True,True]]\n",
    "\n",
    "# cast list of list to Pandas DataFrame\n",
    "golf_df = pd.DataFrame(golf_data_set, columns=golf_data_header)\n",
    "# convert  bool to ints\n",
    "golf_df[['Windy','Play']] = golf_df[['Windy','Play']].astype(int)\n",
    " "
   ]
  },
  {
   "cell_type": "markdown",
   "metadata": {},
   "source": [
    "## Explore Data"
   ]
  },
  {
   "cell_type": "code",
   "execution_count": 4,
   "metadata": {},
   "outputs": [
    {
     "name": "stdout",
     "output_type": "stream",
     "text": [
      "<class 'pandas.core.frame.DataFrame'>\n",
      "RangeIndex: 14 entries, 0 to 13\n",
      "Data columns (total 7 columns):\n",
      "Outlook                14 non-null object\n",
      "Temperature_Numeric    14 non-null int64\n",
      "Temperature_Nominal    14 non-null object\n",
      "Humidity_Numeric       14 non-null int64\n",
      "Humidity_Nominal       14 non-null object\n",
      "Windy                  14 non-null int64\n",
      "Play                   14 non-null int64\n",
      "dtypes: int64(4), object(3)\n",
      "memory usage: 864.0+ bytes\n"
     ]
    }
   ],
   "source": [
    "golf_df.info()"
   ]
  },
  {
   "cell_type": "code",
   "execution_count": 5,
   "metadata": {},
   "outputs": [
    {
     "data": {
      "text/html": [
       "<div>\n",
       "<style scoped>\n",
       "    .dataframe tbody tr th:only-of-type {\n",
       "        vertical-align: middle;\n",
       "    }\n",
       "\n",
       "    .dataframe tbody tr th {\n",
       "        vertical-align: top;\n",
       "    }\n",
       "\n",
       "    .dataframe thead th {\n",
       "        text-align: right;\n",
       "    }\n",
       "</style>\n",
       "<table border=\"1\" class=\"dataframe\">\n",
       "  <thead>\n",
       "    <tr style=\"text-align: right;\">\n",
       "      <th></th>\n",
       "      <th>Temperature_Numeric</th>\n",
       "      <th>Humidity_Numeric</th>\n",
       "      <th>Windy</th>\n",
       "      <th>Play</th>\n",
       "    </tr>\n",
       "  </thead>\n",
       "  <tbody>\n",
       "    <tr>\n",
       "      <th>count</th>\n",
       "      <td>14.000000</td>\n",
       "      <td>14.000000</td>\n",
       "      <td>14.000000</td>\n",
       "      <td>14.000000</td>\n",
       "    </tr>\n",
       "    <tr>\n",
       "      <th>mean</th>\n",
       "      <td>73.571429</td>\n",
       "      <td>81.642857</td>\n",
       "      <td>0.428571</td>\n",
       "      <td>0.642857</td>\n",
       "    </tr>\n",
       "    <tr>\n",
       "      <th>std</th>\n",
       "      <td>6.571667</td>\n",
       "      <td>10.285218</td>\n",
       "      <td>0.513553</td>\n",
       "      <td>0.497245</td>\n",
       "    </tr>\n",
       "    <tr>\n",
       "      <th>min</th>\n",
       "      <td>64.000000</td>\n",
       "      <td>65.000000</td>\n",
       "      <td>0.000000</td>\n",
       "      <td>0.000000</td>\n",
       "    </tr>\n",
       "    <tr>\n",
       "      <th>25%</th>\n",
       "      <td>69.250000</td>\n",
       "      <td>71.250000</td>\n",
       "      <td>0.000000</td>\n",
       "      <td>0.000000</td>\n",
       "    </tr>\n",
       "    <tr>\n",
       "      <th>50%</th>\n",
       "      <td>72.000000</td>\n",
       "      <td>82.500000</td>\n",
       "      <td>0.000000</td>\n",
       "      <td>1.000000</td>\n",
       "    </tr>\n",
       "    <tr>\n",
       "      <th>75%</th>\n",
       "      <td>78.750000</td>\n",
       "      <td>90.000000</td>\n",
       "      <td>1.000000</td>\n",
       "      <td>1.000000</td>\n",
       "    </tr>\n",
       "    <tr>\n",
       "      <th>max</th>\n",
       "      <td>85.000000</td>\n",
       "      <td>96.000000</td>\n",
       "      <td>1.000000</td>\n",
       "      <td>1.000000</td>\n",
       "    </tr>\n",
       "  </tbody>\n",
       "</table>\n",
       "</div>"
      ],
      "text/plain": [
       "       Temperature_Numeric  Humidity_Numeric      Windy       Play\n",
       "count            14.000000         14.000000  14.000000  14.000000\n",
       "mean             73.571429         81.642857   0.428571   0.642857\n",
       "std               6.571667         10.285218   0.513553   0.497245\n",
       "min              64.000000         65.000000   0.000000   0.000000\n",
       "25%              69.250000         71.250000   0.000000   0.000000\n",
       "50%              72.000000         82.500000   0.000000   1.000000\n",
       "75%              78.750000         90.000000   1.000000   1.000000\n",
       "max              85.000000         96.000000   1.000000   1.000000"
      ]
     },
     "execution_count": 5,
     "metadata": {},
     "output_type": "execute_result"
    }
   ],
   "source": [
    "golf_df.describe()"
   ]
  },
  {
   "cell_type": "markdown",
   "metadata": {},
   "source": [
    "## Binarize/Dummify Categorical Data"
   ]
  },
  {
   "cell_type": "code",
   "execution_count": 6,
   "metadata": {},
   "outputs": [
    {
     "data": {
      "text/html": [
       "<div>\n",
       "<style scoped>\n",
       "    .dataframe tbody tr th:only-of-type {\n",
       "        vertical-align: middle;\n",
       "    }\n",
       "\n",
       "    .dataframe tbody tr th {\n",
       "        vertical-align: top;\n",
       "    }\n",
       "\n",
       "    .dataframe thead th {\n",
       "        text-align: right;\n",
       "    }\n",
       "</style>\n",
       "<table border=\"1\" class=\"dataframe\">\n",
       "  <thead>\n",
       "    <tr style=\"text-align: right;\">\n",
       "      <th></th>\n",
       "      <th>Temperature_Numeric</th>\n",
       "      <th>Humidity_Numeric</th>\n",
       "      <th>Windy</th>\n",
       "      <th>Play</th>\n",
       "      <th>Outlook_overcast</th>\n",
       "      <th>Outlook_rainy</th>\n",
       "      <th>Outlook_sunny</th>\n",
       "      <th>Temperature_Nominal_cool</th>\n",
       "      <th>Temperature_Nominal_hot</th>\n",
       "      <th>Temperature_Nominal_mild</th>\n",
       "      <th>Humidity_Nominal_high</th>\n",
       "      <th>Humidity_Nominal_normal</th>\n",
       "    </tr>\n",
       "  </thead>\n",
       "  <tbody>\n",
       "    <tr>\n",
       "      <th>0</th>\n",
       "      <td>83</td>\n",
       "      <td>86</td>\n",
       "      <td>0</td>\n",
       "      <td>1</td>\n",
       "      <td>1</td>\n",
       "      <td>0</td>\n",
       "      <td>0</td>\n",
       "      <td>0</td>\n",
       "      <td>1</td>\n",
       "      <td>0</td>\n",
       "      <td>1</td>\n",
       "      <td>0</td>\n",
       "    </tr>\n",
       "    <tr>\n",
       "      <th>1</th>\n",
       "      <td>64</td>\n",
       "      <td>65</td>\n",
       "      <td>1</td>\n",
       "      <td>1</td>\n",
       "      <td>1</td>\n",
       "      <td>0</td>\n",
       "      <td>0</td>\n",
       "      <td>1</td>\n",
       "      <td>0</td>\n",
       "      <td>0</td>\n",
       "      <td>0</td>\n",
       "      <td>1</td>\n",
       "    </tr>\n",
       "    <tr>\n",
       "      <th>2</th>\n",
       "      <td>72</td>\n",
       "      <td>90</td>\n",
       "      <td>1</td>\n",
       "      <td>1</td>\n",
       "      <td>1</td>\n",
       "      <td>0</td>\n",
       "      <td>0</td>\n",
       "      <td>0</td>\n",
       "      <td>0</td>\n",
       "      <td>1</td>\n",
       "      <td>1</td>\n",
       "      <td>0</td>\n",
       "    </tr>\n",
       "    <tr>\n",
       "      <th>3</th>\n",
       "      <td>81</td>\n",
       "      <td>75</td>\n",
       "      <td>0</td>\n",
       "      <td>1</td>\n",
       "      <td>1</td>\n",
       "      <td>0</td>\n",
       "      <td>0</td>\n",
       "      <td>0</td>\n",
       "      <td>1</td>\n",
       "      <td>0</td>\n",
       "      <td>0</td>\n",
       "      <td>1</td>\n",
       "    </tr>\n",
       "    <tr>\n",
       "      <th>4</th>\n",
       "      <td>70</td>\n",
       "      <td>96</td>\n",
       "      <td>0</td>\n",
       "      <td>1</td>\n",
       "      <td>0</td>\n",
       "      <td>1</td>\n",
       "      <td>0</td>\n",
       "      <td>0</td>\n",
       "      <td>0</td>\n",
       "      <td>1</td>\n",
       "      <td>1</td>\n",
       "      <td>0</td>\n",
       "    </tr>\n",
       "  </tbody>\n",
       "</table>\n",
       "</div>"
      ],
      "text/plain": [
       "   Temperature_Numeric  Humidity_Numeric  Windy  Play  Outlook_overcast  \\\n",
       "0                   83                86      0     1                 1   \n",
       "1                   64                65      1     1                 1   \n",
       "2                   72                90      1     1                 1   \n",
       "3                   81                75      0     1                 1   \n",
       "4                   70                96      0     1                 0   \n",
       "\n",
       "   Outlook_rainy  Outlook_sunny  Temperature_Nominal_cool  \\\n",
       "0              0              0                         0   \n",
       "1              0              0                         1   \n",
       "2              0              0                         0   \n",
       "3              0              0                         0   \n",
       "4              1              0                         0   \n",
       "\n",
       "   Temperature_Nominal_hot  Temperature_Nominal_mild  Humidity_Nominal_high  \\\n",
       "0                        1                         0                      1   \n",
       "1                        0                         0                      0   \n",
       "2                        0                         1                      1   \n",
       "3                        1                         0                      0   \n",
       "4                        0                         1                      1   \n",
       "\n",
       "   Humidity_Nominal_normal  \n",
       "0                        0  \n",
       "1                        1  \n",
       "2                        0  \n",
       "3                        1  \n",
       "4                        0  "
      ]
     },
     "execution_count": 6,
     "metadata": {},
     "output_type": "execute_result"
    }
   ],
   "source": [
    "def prepare_data_for_model(raw_dataframe, target_columns, drop_first = False, make_na_col = False):\n",
    "    # dummy all categorical fields \n",
    "    dataframe_dummy = pd.get_dummies(raw_dataframe, columns=target_columns, \n",
    "                                     drop_first=drop_first, \n",
    "                                     dummy_na=make_na_col)\n",
    "    return (dataframe_dummy)\n",
    "\n",
    "# create dummy features \n",
    "golf_df_ready = prepare_data_for_model(golf_df, target_columns=['Outlook', 'Temperature_Nominal', 'Humidity_Nominal'])\n",
    "golf_df_ready = golf_df_ready.dropna() \n",
    "golf_df_ready.head()"
   ]
  },
  {
   "cell_type": "markdown",
   "metadata": {},
   "source": [
    "# Modeling With Naive Bayes Classifiction"
   ]
  },
  {
   "cell_type": "code",
   "execution_count": 7,
   "metadata": {},
   "outputs": [
    {
     "name": "stdout",
     "output_type": "stream",
     "text": [
      "    Temperature_Numeric  Humidity_Numeric  Windy  Outlook_overcast  \\\n",
      "1                    64                65      1                 1   \n",
      "13                   75                70      1                 0   \n",
      "4                    70                96      0                 0   \n",
      "\n",
      "    Outlook_rainy  Outlook_sunny  Temperature_Nominal_cool  \\\n",
      "1               0              0                         1   \n",
      "13              0              1                         0   \n",
      "4               1              0                         0   \n",
      "\n",
      "    Temperature_Nominal_hot  Temperature_Nominal_mild  Humidity_Nominal_high  \\\n",
      "1                         0                         0                      0   \n",
      "13                        0                         1                      0   \n",
      "4                         0                         1                      1   \n",
      "\n",
      "    Humidity_Nominal_normal  \n",
      "1                         1  \n",
      "13                        1  \n",
      "4                         0  \n",
      "Accuracy: 0.714286\n"
     ]
    }
   ],
   "source": [
    "features = [feat for feat in list(golf_df_ready) if feat != 'Play']\n",
    "\n",
    "naive_bayes = GaussianNB()\n",
    "naive_bayes.fit(golf_df_ready[features], np.ravel(golf_df_ready[['Play']]))\n",
    "\n",
    "# split data into train and test portions and model\n",
    "X_train, X_test, y_train, y_test = train_test_split(golf_df_ready[features], \n",
    "                                                 golf_df_ready[['Play']], \n",
    "                                                 test_size=0.5, \n",
    "                                                 random_state=42)\n",
    "print(X_train.head(3))\n",
    "print ('Accuracy: %f' % naive_bayes.score(X_test,y_test))"
   ]
  },
  {
   "cell_type": "code",
   "execution_count": 8,
   "metadata": {},
   "outputs": [
    {
     "name": "stdout",
     "output_type": "stream",
     "text": [
      "[0 0 1 0 0 0 1]\n"
     ]
    }
   ],
   "source": [
    "# Predictions\n",
    "print(naive_bayes.predict(X_test))"
   ]
  },
  {
   "cell_type": "code",
   "execution_count": 9,
   "metadata": {},
   "outputs": [
    {
     "name": "stdout",
     "output_type": "stream",
     "text": [
      "[[9.99994910e-01 5.09005696e-06]\n",
      " [9.99968916e-01 3.10842486e-05]\n",
      " [0.00000000e+00 1.00000000e+00]\n",
      " [8.84570501e-01 1.15429499e-01]\n",
      " [8.00907988e-01 1.99092012e-01]\n",
      " [9.99932094e-01 6.79055800e-05]\n",
      " [0.00000000e+00 1.00000000e+00]]\n"
     ]
    }
   ],
   "source": [
    "# Probabilites \n",
    "print(naive_bayes.predict_proba(X_test))"
   ]
  },
  {
   "cell_type": "code",
   "execution_count": 10,
   "metadata": {},
   "outputs": [
    {
     "data": {
      "text/html": [
       "<div>\n",
       "<style scoped>\n",
       "    .dataframe tbody tr th:only-of-type {\n",
       "        vertical-align: middle;\n",
       "    }\n",
       "\n",
       "    .dataframe tbody tr th {\n",
       "        vertical-align: top;\n",
       "    }\n",
       "\n",
       "    .dataframe thead th {\n",
       "        text-align: right;\n",
       "    }\n",
       "</style>\n",
       "<table border=\"1\" class=\"dataframe\">\n",
       "  <thead>\n",
       "    <tr style=\"text-align: right;\">\n",
       "      <th></th>\n",
       "      <th>Temperature_Numeric</th>\n",
       "      <th>Humidity_Numeric</th>\n",
       "      <th>Windy</th>\n",
       "      <th>Outlook_overcast</th>\n",
       "      <th>Outlook_rainy</th>\n",
       "      <th>Outlook_sunny</th>\n",
       "      <th>Temperature_Nominal_cool</th>\n",
       "      <th>Temperature_Nominal_hot</th>\n",
       "      <th>Temperature_Nominal_mild</th>\n",
       "      <th>Humidity_Nominal_high</th>\n",
       "      <th>Humidity_Nominal_normal</th>\n",
       "    </tr>\n",
       "  </thead>\n",
       "  <tbody>\n",
       "    <tr>\n",
       "      <th>0</th>\n",
       "      <td>85</td>\n",
       "      <td>40</td>\n",
       "      <td>0</td>\n",
       "      <td>0</td>\n",
       "      <td>0</td>\n",
       "      <td>1</td>\n",
       "      <td>0</td>\n",
       "      <td>0</td>\n",
       "      <td>1</td>\n",
       "      <td>0</td>\n",
       "      <td>1</td>\n",
       "    </tr>\n",
       "  </tbody>\n",
       "</table>\n",
       "</div>"
      ],
      "text/plain": [
       "   Temperature_Numeric  Humidity_Numeric  Windy  Outlook_overcast  \\\n",
       "0                   85                40      0                 0   \n",
       "\n",
       "   Outlook_rainy  Outlook_sunny  Temperature_Nominal_cool  \\\n",
       "0              0              1                         0   \n",
       "\n",
       "   Temperature_Nominal_hot  Temperature_Nominal_mild  Humidity_Nominal_high  \\\n",
       "0                        0                         1                      0   \n",
       "\n",
       "   Humidity_Nominal_normal  \n",
       "0                        1  "
      ]
     },
     "execution_count": 10,
     "metadata": {},
     "output_type": "execute_result"
    }
   ],
   "source": [
    "# how about predicting on new data?\n",
    "future_golf_data = pd.DataFrame([[85,40,0,0,0,1,0,0,1,0,1]], columns=features)\n",
    "future_golf_data.head()\n"
   ]
  },
  {
   "cell_type": "code",
   "execution_count": 11,
   "metadata": {},
   "outputs": [
    {
     "name": "stdout",
     "output_type": "stream",
     "text": [
      "Will I Golf Tomorrow? True\n"
     ]
    }
   ],
   "source": [
    "print(\"Will I Golf Tomorrow? %s\" % bool(naive_bayes.predict(future_golf_data.head(1))[0]))"
   ]
  },
  {
   "cell_type": "markdown",
   "metadata": {},
   "source": [
    "# Pulling In Live Weather Data From OpenWeatherMap"
   ]
  },
  {
   "cell_type": "code",
   "execution_count": 13,
   "metadata": {},
   "outputs": [
    {
     "data": {
      "text/plain": [
       "{'coord': {'lon': 2.18, 'lat': 41.38},\n",
       " 'weather': [{'id': 802,\n",
       "   'main': 'Clouds',\n",
       "   'description': 'scattered clouds',\n",
       "   'icon': '03d'}],\n",
       " 'base': 'stations',\n",
       " 'main': {'temp': 298.15,\n",
       "  'pressure': 1018,\n",
       "  'humidity': 73,\n",
       "  'temp_min': 298.15,\n",
       "  'temp_max': 298.15},\n",
       " 'visibility': 10000,\n",
       " 'wind': {'speed': 3.1, 'deg': 150},\n",
       " 'clouds': {'all': 40},\n",
       " 'dt': 1530815400,\n",
       " 'sys': {'type': 1,\n",
       "  'id': 5470,\n",
       "  'message': 0.0034,\n",
       "  'country': 'ES',\n",
       "  'sunrise': 1530764651,\n",
       "  'sunset': 1530818852},\n",
       " 'id': 3128760,\n",
       " 'name': 'Barcelona',\n",
       " 'cod': 200}"
      ]
     },
     "execution_count": 13,
     "metadata": {},
     "output_type": "execute_result"
    }
   ],
   "source": [
    "# bring in real weather data using openweathermap and json.load\n",
    "from urllib.request import urlopen\n",
    "import json\n",
    "YOUR_OPENWEATHERMAP_API_KEY = '<<ADD-API-HERE>>'\n",
    "weather_json = json.load(urlopen(\"http://api.openweathermap.org/data/2.5/weather?q=Barcelona&appid=\" + YOUR_OPENWEATHERMAP_API_KEY))\n",
    "weather_json\n"
   ]
  },
  {
   "cell_type": "code",
   "execution_count": 14,
   "metadata": {},
   "outputs": [
    {
     "data": {
      "text/plain": [
       "{'temp': 298.15,\n",
       " 'pressure': 1018,\n",
       " 'humidity': 73,\n",
       " 'temp_min': 298.15,\n",
       " 'temp_max': 298.15}"
      ]
     },
     "execution_count": 14,
     "metadata": {},
     "output_type": "execute_result"
    }
   ],
   "source": [
    "# access individual sections\n",
    "weather_json['main']"
   ]
  },
  {
   "cell_type": "markdown",
   "metadata": {},
   "source": [
    "## Extracting Forecast Data"
   ]
  },
  {
   "cell_type": "code",
   "execution_count": 15,
   "metadata": {},
   "outputs": [],
   "source": [
    "selected_location = \"Seattle\"\n",
    "openweathermap_url = \"http://api.openweathermap.org/data/2.5/forecast?q=\" + selected_location + \"&APPID=\" + YOUR_OPENWEATHERMAP_API_KEY\n",
    "from urllib.request import urlopen\n",
    "import json\n",
    "weather_json = json.load(urlopen(openweathermap_url))\n",
    "\n",
    "\n",
    "# finding the right times - locate first 6AM instance\n",
    "time_stamp_start = 0\n",
    "len(weather_json['list'])\n",
    "for forc in range(len(weather_json['list'])):\n",
    "    time_stamp = weather_json['list'][forc]['dt_txt']\n",
    "    if time_stamp.split()[1] == \"06:00:00\":\n",
    "        time_stamp_start = forc  \n",
    "        break;\n"
   ]
  },
  {
   "cell_type": "code",
   "execution_count": 16,
   "metadata": {},
   "outputs": [
    {
     "data": {
      "text/plain": [
       "{'dt': 1530856800,\n",
       " 'main': {'temp': 292.26,\n",
       "  'temp_min': 292.117,\n",
       "  'temp_max': 292.26,\n",
       "  'pressure': 1021.91,\n",
       "  'sea_level': 1032.58,\n",
       "  'grnd_level': 1021.91,\n",
       "  'humidity': 56,\n",
       "  'temp_kf': 0.14},\n",
       " 'weather': [{'id': 800,\n",
       "   'main': 'Clear',\n",
       "   'description': 'clear sky',\n",
       "   'icon': '01n'}],\n",
       " 'clouds': {'all': 0},\n",
       " 'wind': {'speed': 2.86, 'deg': 210},\n",
       " 'sys': {'pod': 'n'},\n",
       " 'dt_txt': '2018-07-06 06:00:00'}"
      ]
     },
     "execution_count": 16,
     "metadata": {},
     "output_type": "execute_result"
    }
   ],
   "source": [
    "# 6 AM next day\n",
    "weather_json['list'][time_stamp_start]"
   ]
  },
  {
   "cell_type": "code",
   "execution_count": 17,
   "metadata": {},
   "outputs": [
    {
     "data": {
      "text/plain": [
       "{'dt': 1530878400,\n",
       " 'main': {'temp': 288.817,\n",
       "  'temp_min': 288.817,\n",
       "  'temp_max': 288.817,\n",
       "  'pressure': 1022.36,\n",
       "  'sea_level': 1032.98,\n",
       "  'grnd_level': 1022.36,\n",
       "  'humidity': 69,\n",
       "  'temp_kf': 0},\n",
       " 'weather': [{'id': 802,\n",
       "   'main': 'Clouds',\n",
       "   'description': 'scattered clouds',\n",
       "   'icon': '03n'}],\n",
       " 'clouds': {'all': 32},\n",
       " 'wind': {'speed': 1.71, 'deg': 176.506},\n",
       " 'sys': {'pod': 'n'},\n",
       " 'dt_txt': '2018-07-06 12:00:00'}"
      ]
     },
     "execution_count": 17,
     "metadata": {},
     "output_type": "execute_result"
    }
   ],
   "source": [
    "# 12 PM next day\n",
    "weather_json['list'][time_stamp_start+2]"
   ]
  },
  {
   "cell_type": "markdown",
   "metadata": {},
   "source": [
    "## Translating Data From OpenWeatherMap to Golf|Weather Data"
   ]
  },
  {
   "cell_type": "code",
   "execution_count": 18,
   "metadata": {},
   "outputs": [
    {
     "data": {
      "text/plain": [
       "69"
      ]
     },
     "execution_count": 18,
     "metadata": {},
     "output_type": "execute_result"
    }
   ],
   "source": [
    "# get specifics for 12 PM\n",
    "forecast_data = weather_json['list'][time_stamp_start+2]\n",
    "forecast_data['main']['humidity']"
   ]
  },
  {
   "cell_type": "code",
   "execution_count": 19,
   "metadata": {},
   "outputs": [
    {
     "data": {
      "text/plain": [
       "'03n'"
      ]
     },
     "execution_count": 19,
     "metadata": {},
     "output_type": "execute_result"
    }
   ],
   "source": [
    "forecast_data['weather'][0]['icon']"
   ]
  },
  {
   "cell_type": "code",
   "execution_count": 20,
   "metadata": {},
   "outputs": [
    {
     "data": {
      "text/plain": [
       "1.71"
      ]
     },
     "execution_count": 20,
     "metadata": {},
     "output_type": "execute_result"
    }
   ],
   "source": [
    "forecast_data['wind']['speed']"
   ]
  },
  {
   "cell_type": "code",
   "execution_count": 21,
   "metadata": {},
   "outputs": [
    {
     "data": {
      "text/html": [
       "<div>\n",
       "<style scoped>\n",
       "    .dataframe tbody tr th:only-of-type {\n",
       "        vertical-align: middle;\n",
       "    }\n",
       "\n",
       "    .dataframe tbody tr th {\n",
       "        vertical-align: top;\n",
       "    }\n",
       "\n",
       "    .dataframe thead tr th {\n",
       "        text-align: left;\n",
       "    }\n",
       "\n",
       "    .dataframe thead tr:last-of-type th {\n",
       "        text-align: right;\n",
       "    }\n",
       "</style>\n",
       "<table border=\"1\" class=\"dataframe\">\n",
       "  <thead>\n",
       "    <tr>\n",
       "      <th></th>\n",
       "      <th colspan=\"2\" halign=\"left\">Temperature_Numeric</th>\n",
       "    </tr>\n",
       "    <tr>\n",
       "      <th></th>\n",
       "      <th>amin</th>\n",
       "      <th>amax</th>\n",
       "    </tr>\n",
       "    <tr>\n",
       "      <th>Temperature_Nominal</th>\n",
       "      <th></th>\n",
       "      <th></th>\n",
       "    </tr>\n",
       "  </thead>\n",
       "  <tbody>\n",
       "    <tr>\n",
       "      <th>cool</th>\n",
       "      <td>64</td>\n",
       "      <td>69</td>\n",
       "    </tr>\n",
       "    <tr>\n",
       "      <th>hot</th>\n",
       "      <td>80</td>\n",
       "      <td>85</td>\n",
       "    </tr>\n",
       "    <tr>\n",
       "      <th>mild</th>\n",
       "      <td>70</td>\n",
       "      <td>75</td>\n",
       "    </tr>\n",
       "  </tbody>\n",
       "</table>\n",
       "</div>"
      ],
      "text/plain": [
       "                    Temperature_Numeric     \n",
       "                                   amin amax\n",
       "Temperature_Nominal                         \n",
       "cool                                 64   69\n",
       "hot                                  80   85\n",
       "mild                                 70   75"
      ]
     },
     "execution_count": 21,
     "metadata": {},
     "output_type": "execute_result"
    }
   ],
   "source": [
    "golf_df[['Temperature_Numeric', 'Temperature_Nominal']].groupby('Temperature_Nominal').agg({'Temperature_Numeric' : [np.min, np.max]})"
   ]
  },
  {
   "cell_type": "code",
   "execution_count": 22,
   "metadata": {},
   "outputs": [
    {
     "data": {
      "text/html": [
       "<div>\n",
       "<style scoped>\n",
       "    .dataframe tbody tr th:only-of-type {\n",
       "        vertical-align: middle;\n",
       "    }\n",
       "\n",
       "    .dataframe tbody tr th {\n",
       "        vertical-align: top;\n",
       "    }\n",
       "\n",
       "    .dataframe thead tr th {\n",
       "        text-align: left;\n",
       "    }\n",
       "\n",
       "    .dataframe thead tr:last-of-type th {\n",
       "        text-align: right;\n",
       "    }\n",
       "</style>\n",
       "<table border=\"1\" class=\"dataframe\">\n",
       "  <thead>\n",
       "    <tr>\n",
       "      <th></th>\n",
       "      <th colspan=\"2\" halign=\"left\">Humidity_Numeric</th>\n",
       "    </tr>\n",
       "    <tr>\n",
       "      <th></th>\n",
       "      <th>amin</th>\n",
       "      <th>amax</th>\n",
       "    </tr>\n",
       "    <tr>\n",
       "      <th>Humidity_Nominal</th>\n",
       "      <th></th>\n",
       "      <th></th>\n",
       "    </tr>\n",
       "  </thead>\n",
       "  <tbody>\n",
       "    <tr>\n",
       "      <th>high</th>\n",
       "      <td>85</td>\n",
       "      <td>96</td>\n",
       "    </tr>\n",
       "    <tr>\n",
       "      <th>normal</th>\n",
       "      <td>65</td>\n",
       "      <td>80</td>\n",
       "    </tr>\n",
       "  </tbody>\n",
       "</table>\n",
       "</div>"
      ],
      "text/plain": [
       "                 Humidity_Numeric     \n",
       "                             amin amax\n",
       "Humidity_Nominal                      \n",
       "high                           85   96\n",
       "normal                         65   80"
      ]
     },
     "execution_count": 22,
     "metadata": {},
     "output_type": "execute_result"
    }
   ],
   "source": [
    "golf_df[['Humidity_Numeric', 'Humidity_Nominal']].groupby('Humidity_Nominal').agg({'Humidity_Numeric' : [np.min, np.max]})"
   ]
  },
  {
   "cell_type": "markdown",
   "metadata": {},
   "source": [
    "### Humidity"
   ]
  },
  {
   "cell_type": "code",
   "execution_count": 23,
   "metadata": {},
   "outputs": [
    {
     "name": "stdout",
     "output_type": "stream",
     "text": [
      "humidity: 69.000000\n",
      "humidity_nominal: Normal\n"
     ]
    }
   ],
   "source": [
    "# humidity\n",
    "def GetNominalHumidity(humidity_percent):\n",
    "     if (humidity_percent > 80):\n",
    "        return \"high\"\n",
    "     else:\n",
    "        return \"normal\"\n",
    "    \n",
    "humidity = forecast_data['main']['humidity']\n",
    "print('humidity: %f' % humidity)\n",
    "humidity_nominal = GetNominalHumidity(humidity)\n",
    "print('humidity_nominal: %s' % humidity_nominal.capitalize())"
   ]
  },
  {
   "cell_type": "markdown",
   "metadata": {},
   "source": [
    "### Temperature"
   ]
  },
  {
   "cell_type": "code",
   "execution_count": 24,
   "metadata": {},
   "outputs": [
    {
     "name": "stdout",
     "output_type": "stream",
     "text": [
      "temperature: 60.200600 Fahrenheit\n",
      "temperature_nominal: Cool\n"
     ]
    }
   ],
   "source": [
    "# temperature\n",
    "def GetNominalTemparature(temp_fahrenheit):\n",
    "    if (temp_fahrenheit < 70):\n",
    "        return \"cool\"\n",
    "    elif (temp_fahrenheit < 80):\n",
    "        return \"mild\"\n",
    "    else:\n",
    "        return \"hot\"\n",
    "    \n",
    "# temperature - to Fahrenheit and to nominal \n",
    "temperature = float(forecast_data['main']['temp']) * 1.8 - 459.67\n",
    "print('temperature: %f Fahrenheit' % temperature)\n",
    "temperature_nominal = GetNominalTemparature(temperature)\n",
    "print('temperature_nominal: %s' % temperature_nominal.capitalize())"
   ]
  },
  {
   "cell_type": "markdown",
   "metadata": {},
   "source": [
    "### Is Windy"
   ]
  },
  {
   "cell_type": "code",
   "execution_count": 25,
   "metadata": {},
   "outputs": [
    {
     "name": "stdout",
     "output_type": "stream",
     "text": [
      "iswindy: False\n"
     ]
    }
   ],
   "source": [
    "def GetWindyBoolean(wind_meter_second):\n",
    "    if (wind_meter_second > 10.8):\n",
    "        return(True)\n",
    "    else:\n",
    "        return(False)\n",
    "    \n",
    "# wind speed \n",
    "iswindy = GetWindyBoolean(forecast_data['wind']['speed'])\n",
    "print('iswindy: %s' % iswindy)"
   ]
  },
  {
   "cell_type": "markdown",
   "metadata": {},
   "source": [
    "### Outlook and icon"
   ]
  },
  {
   "cell_type": "code",
   "execution_count": 26,
   "metadata": {},
   "outputs": [
    {
     "name": "stdout",
     "output_type": "stream",
     "text": [
      "Outlook: Overcast\n"
     ]
    }
   ],
   "source": [
    "def GetWeatherOutlookAndWeatherIcon(main_weather_icon):\n",
    "    # truncate third char - day or night not needed\n",
    "    main_weather_icon = main_weather_icon[0:2]\n",
    "\n",
    "    # return \"Golf|Weather Data\" variable and daytime icon\n",
    "    if (main_weather_icon in [\"01\", \"02\"]):\n",
    "        return(\"sunny\", main_weather_icon + \"d.png\")\n",
    "    elif (main_weather_icon in [\"03\", \"04\", 50]):\n",
    "        return(\"overcast\", main_weather_icon + \"d.png\")\n",
    "    else:\n",
    "        return(\"rain\", main_weather_icon + \"d.png\")\n",
    "    \n",
    "# weather icon\n",
    "outlook, outlook_icon = GetWeatherOutlookAndWeatherIcon(forecast_data['weather'][0]['icon'])\n",
    "print('Outlook: %s' % outlook.capitalize())\n",
    " \n",
    "            "
   ]
  },
  {
   "cell_type": "code",
   "execution_count": 27,
   "metadata": {},
   "outputs": [
    {
     "data": {
      "image/png": "[encoded data removed]",
      "text/plain": [
       "<IPython.core.display.Image object>"
      ]
     },
     "metadata": {
      "image/png": {
       "unconfined": true
      }
     },
     "output_type": "display_data"
    }
   ],
   "source": [
    "from IPython.core.display import Image, display\n",
    "display(Image(\"http://openweathermap.org/img/w/\" + outlook_icon, unconfined=True))"
   ]
  },
  {
   "cell_type": "markdown",
   "metadata": {},
   "source": [
    "## Feeding in openweathermap data into the model"
   ]
  },
  {
   "cell_type": "code",
   "execution_count": 28,
   "metadata": {},
   "outputs": [
    {
     "data": {
      "text/plain": [
       "['Temperature_Numeric',\n",
       " 'Humidity_Numeric',\n",
       " 'Windy',\n",
       " 'Outlook_overcast',\n",
       " 'Outlook_rainy',\n",
       " 'Outlook_sunny',\n",
       " 'Temperature_Nominal_cool',\n",
       " 'Temperature_Nominal_hot',\n",
       " 'Temperature_Nominal_mild',\n",
       " 'Humidity_Nominal_high',\n",
       " 'Humidity_Nominal_normal']"
      ]
     },
     "execution_count": 28,
     "metadata": {},
     "output_type": "execute_result"
    }
   ],
   "source": [
    "list(X_test)"
   ]
  },
  {
   "cell_type": "code",
   "execution_count": 29,
   "metadata": {},
   "outputs": [
    {
     "data": {
      "text/html": [
       "<div>\n",
       "<style scoped>\n",
       "    .dataframe tbody tr th:only-of-type {\n",
       "        vertical-align: middle;\n",
       "    }\n",
       "\n",
       "    .dataframe tbody tr th {\n",
       "        vertical-align: top;\n",
       "    }\n",
       "\n",
       "    .dataframe thead th {\n",
       "        text-align: right;\n",
       "    }\n",
       "</style>\n",
       "<table border=\"1\" class=\"dataframe\">\n",
       "  <thead>\n",
       "    <tr style=\"text-align: right;\">\n",
       "      <th></th>\n",
       "      <th>Temperature_Numeric</th>\n",
       "      <th>Humidity_Numeric</th>\n",
       "      <th>Windy</th>\n",
       "      <th>Outlook_overcast</th>\n",
       "      <th>Outlook_rainy</th>\n",
       "      <th>Outlook_sunny</th>\n",
       "      <th>Temperature_Nominal_cool</th>\n",
       "      <th>Temperature_Nominal_hot</th>\n",
       "      <th>Temperature_Nominal_mild</th>\n",
       "      <th>Humidity_Nominal_high</th>\n",
       "      <th>Humidity_Nominal_normal</th>\n",
       "    </tr>\n",
       "  </thead>\n",
       "  <tbody>\n",
       "    <tr>\n",
       "      <th>0</th>\n",
       "      <td>56.4206</td>\n",
       "      <td>79</td>\n",
       "      <td>0</td>\n",
       "      <td>0</td>\n",
       "      <td>0</td>\n",
       "      <td>1</td>\n",
       "      <td>1</td>\n",
       "      <td>0</td>\n",
       "      <td>0</td>\n",
       "      <td>0</td>\n",
       "      <td>1</td>\n",
       "    </tr>\n",
       "  </tbody>\n",
       "</table>\n",
       "</div>"
      ],
      "text/plain": [
       "   Temperature_Numeric  Humidity_Numeric  Windy  Outlook_overcast  \\\n",
       "0              56.4206                79      0                 0   \n",
       "\n",
       "   Outlook_rainy  Outlook_sunny  Temperature_Nominal_cool  \\\n",
       "0              0              1                         1   \n",
       "\n",
       "   Temperature_Nominal_hot  Temperature_Nominal_mild  Humidity_Nominal_high  \\\n",
       "0                        0                         0                      0   \n",
       "\n",
       "   Humidity_Nominal_normal  \n",
       "0                        1  "
      ]
     },
     "execution_count": 29,
     "metadata": {},
     "output_type": "execute_result"
    }
   ],
   "source": [
    "# get openweathermap data\n",
    "selected_location = \"portland\"\n",
    "openweathermap_url = \"http://api.openweathermap.org/data/2.5/forecast?q=\" + selected_location + \"&APPID=\" + YOUR_OPENWEATHERMAP_API_KEY\n",
    "from urllib.request import urlopen\n",
    "import json\n",
    "weather_json = json.load(urlopen(openweathermap_url))\n",
    "\n",
    "\n",
    "# find the right times - locate first 6AM instance\n",
    "time_stamp_start = 0\n",
    "len(weather_json['list'])\n",
    "for forc in range(len(weather_json['list'])):\n",
    "    time_stamp = weather_json['list'][forc]['dt_txt']\n",
    "    if time_stamp.split()[1] == \"06:00:00\":\n",
    "        time_stamp_start = forc  \n",
    "        break;\n",
    "\n",
    "#  6-9 AM = time_stamp_start\n",
    "#  9-12 PM = time_stamp_start + 1\n",
    "#  12-3 PM = time_stamp_start + 2\n",
    "#  3-6 PM = time_stamp_start + 3\n",
    "#  6-9 PM = time_stamp_start + 4\n",
    "#  9-12 AM = time_stamp_start + 5\n",
    "        \n",
    "# get specifics for 12 PM\n",
    "forecast_data = weather_json['list'][time_stamp_start+2]\n",
    "\n",
    "# temperature - to Fahrenheit and to nominal \n",
    "temperature = float(forecast_data['main']['temp']) * 1.8 - 459.67\n",
    "temperature_nominal = GetNominalTemparature(temperature)\n",
    "humidity = forecast_data['main']['humidity']\n",
    "humidity_nominal = GetNominalHumidity(humidity)\n",
    "iswindy = GetWindyBoolean(forecast_data['wind']['speed'])\n",
    "outlook, outlook_icon = GetWeatherOutlookAndWeatherIcon(forecast_data['weather'][0]['icon'])\n",
    " \n",
    "Temperature_Numeric = temperature\n",
    "Humidity_Numeric = humidity\n",
    "Windy = int(iswindy)\n",
    "Outlook_overcast = int(outlook==\"overcast\")\n",
    "Outlook_rainy = int(outlook==\"rainy\")\n",
    "Outlook_sunny = int(outlook==\"sunny\")\n",
    "\n",
    "Temperature_Nominal_cool = int(temperature_nominal==\"cool\")\n",
    "Temperature_Nominal_hot = int(temperature_nominal==\"hot\")\n",
    "Temperature_Nominal_mild = int(temperature_nominal==\"mild\")\n",
    "Humidity_Nominal_high = int(humidity_nominal==\"high\")\n",
    "Humidity_Nominal_normal = int(humidity_nominal==\"normal\")\n",
    "\n",
    " \n",
    "future_data = pd.DataFrame([[Temperature_Numeric,\n",
    " Humidity_Numeric,\n",
    " Windy,\n",
    " Outlook_overcast,\n",
    " Outlook_rainy,\n",
    " Outlook_sunny,\n",
    " Temperature_Nominal_cool,\n",
    " Temperature_Nominal_hot,\n",
    " Temperature_Nominal_mild,\n",
    " Humidity_Nominal_high,\n",
    " Humidity_Nominal_normal]], columns = list(X_test) )\n",
    "\n",
    "future_data"
   ]
  },
  {
   "cell_type": "code",
   "execution_count": 30,
   "metadata": {},
   "outputs": [
    {
     "name": "stdout",
     "output_type": "stream",
     "text": [
      "[[0.97833465 0.02166535]]\n",
      "[0]\n"
     ]
    }
   ],
   "source": [
    "\n",
    "print(naive_bayes.predict_proba(future_data))\n",
    "print(naive_bayes.predict(future_data))"
   ]
  },
  {
   "cell_type": "code",
   "execution_count": 31,
   "metadata": {},
   "outputs": [
    {
     "name": "stdout",
     "output_type": "stream",
     "text": [
      "There is a 2.166535 percent chance of golfing tomorrow.\n"
     ]
    }
   ],
   "source": [
    "prediction = naive_bayes.predict_proba(future_data)\n",
    "print(\"There is a %f percent chance of golfing tomorrow.\" % (prediction[0][1] * 100))"
   ]
  },
  {
   "cell_type": "code",
   "execution_count": 32,
   "metadata": {},
   "outputs": [
    {
     "data": {
      "text/plain": [
       "'New+York+City%21%21'"
      ]
     },
     "execution_count": 32,
     "metadata": {},
     "output_type": "execute_result"
    }
   ],
   "source": [
    "# Making text Internet/URL friendly\n",
    "import urllib.parse\n",
    "urllib.parse.quote_plus('New York City!!')"
   ]
  },
  {
   "cell_type": "code",
   "execution_count": null,
   "metadata": {},
   "outputs": [],
   "source": []
  }
 ],
 "metadata": {
  "kernelspec": {
   "display_name": "Python 3",
   "language": "python",
   "name": "python3"
  },
  "language_info": {
   "codemirror_mode": {
    "name": "ipython",
    "version": 3
   },
   "file_extension": ".py",
   "mimetype": "text/x-python",
   "name": "python",
   "nbconvert_exporter": "python",
   "pygments_lexer": "ipython3",
   "version": "3.6.5"
  }
 },
 "nbformat": 4,
 "nbformat_minor": 2
}
